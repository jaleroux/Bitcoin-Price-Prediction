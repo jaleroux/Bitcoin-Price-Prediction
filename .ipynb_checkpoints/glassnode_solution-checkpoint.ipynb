{
 "cells": [
  {
   "cell_type": "code",
   "execution_count": 87,
   "metadata": {},
   "outputs": [],
   "source": [
    "import numpy as np \n",
    "import pandas as pd\n",
    "\n",
    "import datetime\n",
    "\n",
    "import requests # for cryptocomapre data \n",
    "import json\n",
    "\n",
    "from math import ceil    # for api call rounding"
   ]
  },
  {
   "cell_type": "code",
   "execution_count": 107,
   "metadata": {},
   "outputs": [],
   "source": [
    "API_LIMIT = 2000\n",
    "API_PARAMS = {'fsym': 'BTC', \n",
    "              'fsym': 'USD', \n",
    "              'limit': 2000, \n",
    "              'aggregate': 1,\n",
    "              'api_key': 'e8d00b797e32ab2eae591187aee752bb628a427577e22e9fdc7c98f50129135f'}\n",
    "YEARS_OF_DATA = 3\n",
    "HOURS_OF_DATA = 3 * (60*60*24)\n",
    "SECONDS_OF_DATA = 3 * (60*60*24*365)\n",
    "NUM_API_CALLS = ceil(HOURS_OF_DATA / API_LIMIT) # so to load full set"
   ]
  },
  {
   "cell_type": "code",
   "execution_count": 72,
   "metadata": {},
   "outputs": [
    {
     "ename": "SyntaxError",
     "evalue": "invalid syntax (<ipython-input-72-d9a894f21706>, line 12)",
     "output_type": "error",
     "traceback": [
      "\u001b[0;36m  File \u001b[0;32m\"<ipython-input-72-d9a894f21706>\"\u001b[0;36m, line \u001b[0;32m12\u001b[0m\n\u001b[0;31m    API_PARAMS = {'':, '':, '':}\u001b[0m\n\u001b[0m                     ^\u001b[0m\n\u001b[0;31mSyntaxError\u001b[0m\u001b[0;31m:\u001b[0m invalid syntax\n"
     ]
    }
   ],
   "source": [
    "https://min-api.cryptocompare.com/data/histohour?\n",
    "    fsym=BTC&\n",
    "    fsym=USD&\n",
    "    limit=1440&\n",
    "    toTs=1546092000&\n",
    "    aggregate=1&api_key=e8d00b797e32ab2eae591187aee752bb628a427577e22e9fdc7c98f50129135f"
   ]
  },
  {
   "cell_type": "code",
   "execution_count": null,
   "metadata": {
    "collapsed": true
   },
   "outputs": [],
   "source": []
  },
  {
   "cell_type": "code",
   "execution_count": 112,
   "metadata": {},
   "outputs": [
    {
     "data": {
      "text/plain": [
       "{'Aggregated': False,\n",
       " 'ConversionType': {'conversionSymbol': '', 'type': 'direct'},\n",
       " 'Data': [{'close': 4009.67,\n",
       "   'high': 4331.07,\n",
       "   'low': 3916.3,\n",
       "   'open': 4286.85,\n",
       "   'time': 1543536000,\n",
       "   'volumefrom': 121993.57,\n",
       "   'volumeto': 497762735.43},\n",
       "  {'close': 4197.46,\n",
       "   'high': 4309.65,\n",
       "   'low': 3942.62,\n",
       "   'open': 4009.67,\n",
       "   'time': 1543622400,\n",
       "   'volumefrom': 67774.58,\n",
       "   'volumeto': 280927570.31},\n",
       "  {'close': 4143.86,\n",
       "   'high': 4318.79,\n",
       "   'low': 4077.67,\n",
       "   'open': 4197.7,\n",
       "   'time': 1543708800,\n",
       "   'volumefrom': 62748.83,\n",
       "   'volumeto': 262154694.41},\n",
       "  {'close': 3871.41,\n",
       "   'high': 4159.01,\n",
       "   'low': 3795.18,\n",
       "   'open': 4143.86,\n",
       "   'time': 1543795200,\n",
       "   'volumefrom': 107400.61,\n",
       "   'volumeto': 423985399.83},\n",
       "  {'close': 3948.44,\n",
       "   'high': 4082.68,\n",
       "   'low': 3770.92,\n",
       "   'open': 3871.41,\n",
       "   'time': 1543881600,\n",
       "   'volumefrom': 94655.27,\n",
       "   'volumeto': 373361232.89},\n",
       "  {'close': 3737.53,\n",
       "   'high': 3961.8,\n",
       "   'low': 3719.19,\n",
       "   'open': 3948.44,\n",
       "   'time': 1543968000,\n",
       "   'volumefrom': 83811.55,\n",
       "   'volumeto': 320944415.67},\n",
       "  {'close': 3485.18,\n",
       "   'high': 3883.43,\n",
       "   'low': 3467.92,\n",
       "   'open': 3737.53,\n",
       "   'time': 1544054400,\n",
       "   'volumefrom': 159523.77,\n",
       "   'volumeto': 590923562.42},\n",
       "  {'close': 3420.57,\n",
       "   'high': 3576.11,\n",
       "   'low': 3248,\n",
       "   'open': 3485.18,\n",
       "   'time': 1544140800,\n",
       "   'volumefrom': 206088.47,\n",
       "   'volumeto': 699930576.16},\n",
       "  {'close': 3461.07,\n",
       "   'high': 3602.49,\n",
       "   'low': 3295.21,\n",
       "   'open': 3420.57,\n",
       "   'time': 1544227200,\n",
       "   'volumefrom': 104091.14,\n",
       "   'volumeto': 357548590.53},\n",
       "  {'close': 3592.84,\n",
       "   'high': 3718.58,\n",
       "   'low': 3436.5,\n",
       "   'open': 3461.07,\n",
       "   'time': 1544313600,\n",
       "   'volumefrom': 83347.79,\n",
       "   'volumeto': 295321498.63},\n",
       "  {'close': 3467.16,\n",
       "   'high': 3645.49,\n",
       "   'low': 3416.77,\n",
       "   'open': 3592.84,\n",
       "   'time': 1544400000,\n",
       "   'volumefrom': 81855.33,\n",
       "   'volumeto': 287119758.11},\n",
       "  {'close': 3401.02,\n",
       "   'high': 3483.58,\n",
       "   'low': 3348.98,\n",
       "   'open': 3467.16,\n",
       "   'time': 1544486400,\n",
       "   'volumefrom': 67519.71,\n",
       "   'volumeto': 230671778.42},\n",
       "  {'close': 3485.59,\n",
       "   'high': 3545.37,\n",
       "   'low': 3380.48,\n",
       "   'open': 3401.02,\n",
       "   'time': 1544572800,\n",
       "   'volumefrom': 74415.95,\n",
       "   'volumeto': 257293632.74},\n",
       "  {'close': 3305.11,\n",
       "   'high': 3493.76,\n",
       "   'low': 3272.81,\n",
       "   'open': 3485.59,\n",
       "   'time': 1544659200,\n",
       "   'volumefrom': 84592.04,\n",
       "   'volumeto': 286236674.73},\n",
       "  {'close': 3235.48,\n",
       "   'high': 3333.24,\n",
       "   'low': 3180.97,\n",
       "   'open': 3305.11,\n",
       "   'time': 1544745600,\n",
       "   'volumefrom': 89133.43,\n",
       "   'volumeto': 290985461.02},\n",
       "  {'close': 3232.51,\n",
       "   'high': 3271.76,\n",
       "   'low': 3169.53,\n",
       "   'open': 3235.48,\n",
       "   'time': 1544832000,\n",
       "   'volumefrom': 51317.37,\n",
       "   'volumeto': 165378769.6},\n",
       "  {'close': 3255.37,\n",
       "   'high': 3319.83,\n",
       "   'low': 3227.4,\n",
       "   'open': 3232.51,\n",
       "   'time': 1544918400,\n",
       "   'volumefrom': 45102.51,\n",
       "   'volumeto': 148182655.41},\n",
       "  {'close': 3548.19,\n",
       "   'high': 3639.65,\n",
       "   'low': 3239.06,\n",
       "   'open': 3255.37,\n",
       "   'time': 1545004800,\n",
       "   'volumefrom': 119831.24,\n",
       "   'volumeto': 412454521.38},\n",
       "  {'close': 3715.85,\n",
       "   'high': 3727.99,\n",
       "   'low': 3481.46,\n",
       "   'open': 3548.19,\n",
       "   'time': 1545091200,\n",
       "   'volumefrom': 91609.53,\n",
       "   'volumeto': 327807644.75},\n",
       "  {'close': 3736.54,\n",
       "   'high': 3969.7,\n",
       "   'low': 3693.57,\n",
       "   'open': 3715.85,\n",
       "   'time': 1545177600,\n",
       "   'volumefrom': 163016.15,\n",
       "   'volumeto': 620695447.39},\n",
       "  {'close': 4137.66,\n",
       "   'high': 4225.52,\n",
       "   'low': 3712.82,\n",
       "   'open': 3736.54,\n",
       "   'time': 1545264000,\n",
       "   'volumefrom': 180025.9,\n",
       "   'volumeto': 724855205.51},\n",
       "  {'close': 3898.81,\n",
       "   'high': 4247.71,\n",
       "   'low': 3831.2,\n",
       "   'open': 4137.66,\n",
       "   'time': 1545350400,\n",
       "   'volumefrom': 128508.13,\n",
       "   'volumeto': 516656937.13},\n",
       "  {'close': 4045.24,\n",
       "   'high': 4060.34,\n",
       "   'low': 3849.23,\n",
       "   'open': 3898.81,\n",
       "   'time': 1545436800,\n",
       "   'volumefrom': 63672.55,\n",
       "   'volumeto': 250085915.72},\n",
       "  {'close': 4007.63,\n",
       "   'high': 4117.65,\n",
       "   'low': 3972.39,\n",
       "   'open': 4045.24,\n",
       "   'time': 1545523200,\n",
       "   'volumefrom': 58294.45,\n",
       "   'volumeto': 235997621.23},\n",
       "  {'close': 4081.95,\n",
       "   'high': 4303.37,\n",
       "   'low': 4006.6,\n",
       "   'open': 4007.63,\n",
       "   'time': 1545609600,\n",
       "   'volumefrom': 109869.44,\n",
       "   'volumeto': 459290147.24},\n",
       "  {'close': 3834.73,\n",
       "   'high': 4094.61,\n",
       "   'low': 3734.85,\n",
       "   'open': 4081.95,\n",
       "   'time': 1545696000,\n",
       "   'volumefrom': 95683.55,\n",
       "   'volumeto': 367200910.64},\n",
       "  {'close': 3848.78,\n",
       "   'high': 3923.93,\n",
       "   'low': 3746.86,\n",
       "   'open': 3834.73,\n",
       "   'time': 1545782400,\n",
       "   'volumefrom': 68965.06,\n",
       "   'volumeto': 263439573.84},\n",
       "  {'close': 3646.09,\n",
       "   'high': 3888.92,\n",
       "   'low': 3622.39,\n",
       "   'open': 3848.78,\n",
       "   'time': 1545868800,\n",
       "   'volumefrom': 81652.77,\n",
       "   'volumeto': 305729129.14},\n",
       "  {'close': 3947.86,\n",
       "   'high': 4007.71,\n",
       "   'low': 3628.43,\n",
       "   'open': 3646.09,\n",
       "   'time': 1545955200,\n",
       "   'volumefrom': 92882.41,\n",
       "   'volumeto': 353705007.17},\n",
       "  {'close': 3797.06,\n",
       "   'high': 4004.14,\n",
       "   'low': 3774.38,\n",
       "   'open': 3947.86,\n",
       "   'time': 1546041600,\n",
       "   'volumefrom': 54702.16,\n",
       "   'volumeto': 214891355.42},\n",
       "  {'close': 3902.67,\n",
       "   'high': 3915.12,\n",
       "   'low': 3760.8,\n",
       "   'open': 3797.06,\n",
       "   'time': 1546128000,\n",
       "   'volumefrom': 19786.92,\n",
       "   'volumeto': 75763473.5}],\n",
       " 'FirstValueInArray': True,\n",
       " 'HasWarning': False,\n",
       " 'RateLimit': {},\n",
       " 'Response': 'Success',\n",
       " 'TimeFrom': 1543536000,\n",
       " 'TimeTo': 1546128000,\n",
       " 'Type': 100}"
      ]
     },
     "execution_count": 112,
     "metadata": {},
     "output_type": "execute_result"
    }
   ],
   "source": [
    "#def get_data():\n",
    "    \n",
    "#for call in num_api_call:\n",
    "response = requests.get(\"https://min-api.cryptocompare.com/data/histohour?\", params=API_PARAMS)\n",
    "if request.content != '':\n",
    "   response = request.content\n",
    "   response = json.loads(response)\n",
    "#   print(response)\n",
    "\n",
    "dayIndex = len(response['Data']) - 1\n",
    "timestamp_to_end = int(response['Data'][dayIndex]['time'])\n",
    "#timestamp_to_start = timestamp_to_end - SECONDS_OF_DATA\n",
    "response"
   ]
  },
  {
   "cell_type": "code",
   "execution_count": 109,
   "metadata": {},
   "outputs": [
    {
     "ename": "TypeError",
     "evalue": "'int' object is not iterable",
     "output_type": "error",
     "traceback": [
      "\u001b[0;31m---------------------------------------------------------------------------\u001b[0m",
      "\u001b[0;31mTypeError\u001b[0m                                 Traceback (most recent call last)",
      "\u001b[0;32m<ipython-input-109-2466f77614e8>\u001b[0m in \u001b[0;36m<module>\u001b[0;34m()\u001b[0m\n\u001b[1;32m      1\u001b[0m \u001b[0mresults\u001b[0m \u001b[0;34m=\u001b[0m \u001b[0mresponse\u001b[0m\u001b[0;34m\u001b[0m\u001b[0m\n\u001b[0;32m----> 2\u001b[0;31m \u001b[0;32mfor\u001b[0m \u001b[0mcalls\u001b[0m \u001b[0;32min\u001b[0m \u001b[0mNUM_API_CALLS\u001b[0m\u001b[0;34m:\u001b[0m\u001b[0;34m\u001b[0m\u001b[0m\n\u001b[0m\u001b[1;32m      3\u001b[0m     response = requests.get(\"https://min-api.cryptocompare.com/data/histohour?toTs=\" + timestamp_to_end\n\u001b[1;32m      4\u001b[0m                             , params=API_PARAMS)\n\u001b[1;32m      5\u001b[0m \u001b[0;34m\u001b[0m\u001b[0m\n",
      "\u001b[0;31mTypeError\u001b[0m: 'int' object is not iterable"
     ]
    }
   ],
   "source": [
    "results = response \n",
    "for calls in NUM_API_CALLS:\n",
    "    response = requests.get(\"https://min-api.cryptocompare.com/data/histohour?toTs=\" + timestamp_to_end\n",
    "                            , params=API_PARAMS)\n",
    "\n",
    "    if request.content != '':\n",
    "        response = request.content\n",
    "        response = json.loads(response)\n",
    "        results += response\n",
    "        # for next iteration\n",
    "        dayIndex = len(response['Data']) - 1\n",
    "        timestamp_to_end = str(response['Data'][dayIndex]['time'])\n",
    "        "
   ]
  },
  {
   "cell_type": "code",
   "execution_count": 101,
   "metadata": {},
   "outputs": [
    {
     "name": "stdout",
     "output_type": "stream",
     "text": [
      "{'Response': 'Success', 'Type': 100, 'Aggregated': False, 'Data': [{'time': 1543536000, 'close': 4009.67, 'high': 4331.07, 'low': 3916.3, 'open': 4286.85, 'volumefrom': 121993.57, 'volumeto': 497762735.43}, {'time': 1543622400, 'close': 4197.46, 'high': 4309.65, 'low': 3942.62, 'open': 4009.67, 'volumefrom': 67774.58, 'volumeto': 280927570.31}, {'time': 1543708800, 'close': 4143.86, 'high': 4318.79, 'low': 4077.67, 'open': 4197.7, 'volumefrom': 62748.83, 'volumeto': 262154694.41}, {'time': 1543795200, 'close': 3871.41, 'high': 4159.01, 'low': 3795.18, 'open': 4143.86, 'volumefrom': 107400.61, 'volumeto': 423985399.83}, {'time': 1543881600, 'close': 3948.44, 'high': 4082.68, 'low': 3770.92, 'open': 3871.41, 'volumefrom': 94655.27, 'volumeto': 373361232.89}, {'time': 1543968000, 'close': 3737.53, 'high': 3961.8, 'low': 3719.19, 'open': 3948.44, 'volumefrom': 83811.55, 'volumeto': 320944415.67}, {'time': 1544054400, 'close': 3485.18, 'high': 3883.43, 'low': 3467.92, 'open': 3737.53, 'volumefrom': 159523.77, 'volumeto': 590923562.42}, {'time': 1544140800, 'close': 3420.57, 'high': 3576.11, 'low': 3248, 'open': 3485.18, 'volumefrom': 206088.47, 'volumeto': 699930576.16}, {'time': 1544227200, 'close': 3461.07, 'high': 3602.49, 'low': 3295.21, 'open': 3420.57, 'volumefrom': 104091.14, 'volumeto': 357548590.53}, {'time': 1544313600, 'close': 3592.84, 'high': 3718.58, 'low': 3436.5, 'open': 3461.07, 'volumefrom': 83347.79, 'volumeto': 295321498.63}, {'time': 1544400000, 'close': 3467.16, 'high': 3645.49, 'low': 3416.77, 'open': 3592.84, 'volumefrom': 81855.33, 'volumeto': 287119758.11}, {'time': 1544486400, 'close': 3401.02, 'high': 3483.58, 'low': 3348.98, 'open': 3467.16, 'volumefrom': 67519.71, 'volumeto': 230671778.42}, {'time': 1544572800, 'close': 3485.59, 'high': 3545.37, 'low': 3380.48, 'open': 3401.02, 'volumefrom': 74415.95, 'volumeto': 257293632.74}, {'time': 1544659200, 'close': 3305.11, 'high': 3493.76, 'low': 3272.81, 'open': 3485.59, 'volumefrom': 84592.04, 'volumeto': 286236674.73}, {'time': 1544745600, 'close': 3235.48, 'high': 3333.24, 'low': 3180.97, 'open': 3305.11, 'volumefrom': 89133.43, 'volumeto': 290985461.02}, {'time': 1544832000, 'close': 3232.51, 'high': 3271.76, 'low': 3169.53, 'open': 3235.48, 'volumefrom': 51317.37, 'volumeto': 165378769.6}, {'time': 1544918400, 'close': 3255.37, 'high': 3319.83, 'low': 3227.4, 'open': 3232.51, 'volumefrom': 45102.51, 'volumeto': 148182655.41}, {'time': 1545004800, 'close': 3548.19, 'high': 3639.65, 'low': 3239.06, 'open': 3255.37, 'volumefrom': 119831.24, 'volumeto': 412454521.38}, {'time': 1545091200, 'close': 3715.85, 'high': 3727.99, 'low': 3481.46, 'open': 3548.19, 'volumefrom': 91609.53, 'volumeto': 327807644.75}, {'time': 1545177600, 'close': 3736.54, 'high': 3969.7, 'low': 3693.57, 'open': 3715.85, 'volumefrom': 163016.15, 'volumeto': 620695447.39}, {'time': 1545264000, 'close': 4137.66, 'high': 4225.52, 'low': 3712.82, 'open': 3736.54, 'volumefrom': 180025.9, 'volumeto': 724855205.51}, {'time': 1545350400, 'close': 3898.81, 'high': 4247.71, 'low': 3831.2, 'open': 4137.66, 'volumefrom': 128508.13, 'volumeto': 516656937.13}, {'time': 1545436800, 'close': 4045.24, 'high': 4060.34, 'low': 3849.23, 'open': 3898.81, 'volumefrom': 63672.55, 'volumeto': 250085915.72}, {'time': 1545523200, 'close': 4007.63, 'high': 4117.65, 'low': 3972.39, 'open': 4045.24, 'volumefrom': 58294.45, 'volumeto': 235997621.23}, {'time': 1545609600, 'close': 4081.95, 'high': 4303.37, 'low': 4006.6, 'open': 4007.63, 'volumefrom': 109869.44, 'volumeto': 459290147.24}, {'time': 1545696000, 'close': 3834.73, 'high': 4094.61, 'low': 3734.85, 'open': 4081.95, 'volumefrom': 95683.55, 'volumeto': 367200910.64}, {'time': 1545782400, 'close': 3848.78, 'high': 3923.93, 'low': 3746.86, 'open': 3834.73, 'volumefrom': 68965.06, 'volumeto': 263439573.84}, {'time': 1545868800, 'close': 3646.09, 'high': 3888.92, 'low': 3622.39, 'open': 3848.78, 'volumefrom': 81652.77, 'volumeto': 305729129.14}, {'time': 1545955200, 'close': 3947.86, 'high': 4007.71, 'low': 3628.43, 'open': 3646.09, 'volumefrom': 92882.41, 'volumeto': 353705007.17}, {'time': 1546041600, 'close': 3797.06, 'high': 4004.14, 'low': 3774.38, 'open': 3947.86, 'volumefrom': 54702.16, 'volumeto': 214891355.42}, {'time': 1546128000, 'close': 3902.67, 'high': 3915.12, 'low': 3760.8, 'open': 3797.06, 'volumefrom': 19786.92, 'volumeto': 75763473.5}], 'TimeTo': 1546128000, 'TimeFrom': 1543536000, 'FirstValueInArray': True, 'ConversionType': {'type': 'direct', 'conversionSymbol': ''}, 'RateLimit': {}, 'HasWarning': False}\n",
      "30/12/2018 00:00:00\n"
     ]
    }
   ],
   "source": [
    "datetime_to_end = datetime.datetime.utcfromtimestamp(time).strftime(\"%d/%m/%Y %H:%M:%S\")\n",
    "print(timestampDateTime)"
   ]
  },
  {
   "cell_type": "code",
   "execution_count": 70,
   "metadata": {},
   "outputs": [],
   "source": [
    "request = requests.get('https://min-api.cryptocompare.com/data/histoday?fsym=BTC&tsym=USD', )\n",
    "if request.content != '':\n",
    "   response = request.content\n",
    "   response = json.loads(response)\n",
    "   print(response)\n",
    "    \n",
    " #   return data"
   ]
  },
  {
   "cell_type": "code",
   "execution_count": 66,
   "metadata": {},
   "outputs": [],
   "source": [
    "start_date = datetime.datetime(2017,1,1,0,0,0)\n",
    "end_date = datetime.datetime(2018,1,1,0,0,0)\n",
    "#end_date = datetime.datetime.now().replace(microsecond=0,second=0,minute=0)"
   ]
  },
  {
   "cell_type": "code",
   "execution_count": 94,
   "metadata": {},
   "outputs": [
    {
     "name": "stdout",
     "output_type": "stream",
     "text": [
      "{'Response': 'Success', 'Type': 100, 'Aggregated': False, 'Data': [{'time': 1543536000, 'close': 4009.67, 'high': 4331.07, 'low': 3916.3, 'open': 4286.85, 'volumefrom': 121993.57, 'volumeto': 497762735.43}, {'time': 1543622400, 'close': 4197.46, 'high': 4309.65, 'low': 3942.62, 'open': 4009.67, 'volumefrom': 67774.58, 'volumeto': 280927570.31}, {'time': 1543708800, 'close': 4143.86, 'high': 4318.79, 'low': 4077.67, 'open': 4197.7, 'volumefrom': 62748.83, 'volumeto': 262154694.41}, {'time': 1543795200, 'close': 3871.41, 'high': 4159.01, 'low': 3795.18, 'open': 4143.86, 'volumefrom': 107400.61, 'volumeto': 423985399.83}, {'time': 1543881600, 'close': 3948.44, 'high': 4082.68, 'low': 3770.92, 'open': 3871.41, 'volumefrom': 94655.27, 'volumeto': 373361232.89}, {'time': 1543968000, 'close': 3737.53, 'high': 3961.8, 'low': 3719.19, 'open': 3948.44, 'volumefrom': 83811.55, 'volumeto': 320944415.67}, {'time': 1544054400, 'close': 3485.18, 'high': 3883.43, 'low': 3467.92, 'open': 3737.53, 'volumefrom': 159523.77, 'volumeto': 590923562.42}, {'time': 1544140800, 'close': 3420.57, 'high': 3576.11, 'low': 3248, 'open': 3485.18, 'volumefrom': 206088.47, 'volumeto': 699930576.16}, {'time': 1544227200, 'close': 3461.07, 'high': 3602.49, 'low': 3295.21, 'open': 3420.57, 'volumefrom': 104091.14, 'volumeto': 357548590.53}, {'time': 1544313600, 'close': 3592.84, 'high': 3718.58, 'low': 3436.5, 'open': 3461.07, 'volumefrom': 83347.79, 'volumeto': 295321498.63}, {'time': 1544400000, 'close': 3467.16, 'high': 3645.49, 'low': 3416.77, 'open': 3592.84, 'volumefrom': 81855.33, 'volumeto': 287119758.11}, {'time': 1544486400, 'close': 3401.02, 'high': 3483.58, 'low': 3348.98, 'open': 3467.16, 'volumefrom': 67519.71, 'volumeto': 230671778.42}, {'time': 1544572800, 'close': 3485.59, 'high': 3545.37, 'low': 3380.48, 'open': 3401.02, 'volumefrom': 74415.95, 'volumeto': 257293632.74}, {'time': 1544659200, 'close': 3305.11, 'high': 3493.76, 'low': 3272.81, 'open': 3485.59, 'volumefrom': 84592.04, 'volumeto': 286236674.73}, {'time': 1544745600, 'close': 3235.48, 'high': 3333.24, 'low': 3180.97, 'open': 3305.11, 'volumefrom': 89133.43, 'volumeto': 290985461.02}, {'time': 1544832000, 'close': 3232.51, 'high': 3271.76, 'low': 3169.53, 'open': 3235.48, 'volumefrom': 51317.37, 'volumeto': 165378769.6}, {'time': 1544918400, 'close': 3255.37, 'high': 3319.83, 'low': 3227.4, 'open': 3232.51, 'volumefrom': 45102.51, 'volumeto': 148182655.41}, {'time': 1545004800, 'close': 3548.19, 'high': 3639.65, 'low': 3239.06, 'open': 3255.37, 'volumefrom': 119831.24, 'volumeto': 412454521.38}, {'time': 1545091200, 'close': 3715.85, 'high': 3727.99, 'low': 3481.46, 'open': 3548.19, 'volumefrom': 91609.53, 'volumeto': 327807644.75}, {'time': 1545177600, 'close': 3736.54, 'high': 3969.7, 'low': 3693.57, 'open': 3715.85, 'volumefrom': 163016.15, 'volumeto': 620695447.39}, {'time': 1545264000, 'close': 4137.66, 'high': 4225.52, 'low': 3712.82, 'open': 3736.54, 'volumefrom': 180025.9, 'volumeto': 724855205.51}, {'time': 1545350400, 'close': 3898.81, 'high': 4247.71, 'low': 3831.2, 'open': 4137.66, 'volumefrom': 128508.13, 'volumeto': 516656937.13}, {'time': 1545436800, 'close': 4045.24, 'high': 4060.34, 'low': 3849.23, 'open': 3898.81, 'volumefrom': 63672.55, 'volumeto': 250085915.72}, {'time': 1545523200, 'close': 4007.63, 'high': 4117.65, 'low': 3972.39, 'open': 4045.24, 'volumefrom': 58294.45, 'volumeto': 235997621.23}, {'time': 1545609600, 'close': 4081.95, 'high': 4303.37, 'low': 4006.6, 'open': 4007.63, 'volumefrom': 109869.44, 'volumeto': 459290147.24}, {'time': 1545696000, 'close': 3834.73, 'high': 4094.61, 'low': 3734.85, 'open': 4081.95, 'volumefrom': 95683.55, 'volumeto': 367200910.64}, {'time': 1545782400, 'close': 3848.78, 'high': 3923.93, 'low': 3746.86, 'open': 3834.73, 'volumefrom': 68965.06, 'volumeto': 263439573.84}, {'time': 1545868800, 'close': 3646.09, 'high': 3888.92, 'low': 3622.39, 'open': 3848.78, 'volumefrom': 81652.77, 'volumeto': 305729129.14}, {'time': 1545955200, 'close': 3947.86, 'high': 4007.71, 'low': 3628.43, 'open': 3646.09, 'volumefrom': 92882.41, 'volumeto': 353705007.17}, {'time': 1546041600, 'close': 3797.06, 'high': 4004.14, 'low': 3774.38, 'open': 3947.86, 'volumefrom': 54702.16, 'volumeto': 214891355.42}, {'time': 1546128000, 'close': 3902.67, 'high': 3915.12, 'low': 3760.8, 'open': 3797.06, 'volumefrom': 19786.92, 'volumeto': 75763473.5}], 'TimeTo': 1546128000, 'TimeFrom': 1543536000, 'FirstValueInArray': True, 'ConversionType': {'type': 'direct', 'conversionSymbol': ''}, 'RateLimit': {}, 'HasWarning': False}\n"
     ]
    },
    {
     "ename": "IndexError",
     "evalue": "list index out of range",
     "output_type": "error",
     "traceback": [
      "\u001b[0;31m---------------------------------------------------------------------------\u001b[0m",
      "\u001b[0;31mIndexError\u001b[0m                                Traceback (most recent call last)",
      "\u001b[0;32m<ipython-input-94-3ff27a726b3e>\u001b[0m in \u001b[0;36m<module>\u001b[0;34m()\u001b[0m\n\u001b[1;32m      7\u001b[0m \u001b[0mdayIndex\u001b[0m \u001b[0;34m=\u001b[0m \u001b[0mlen\u001b[0m\u001b[0;34m(\u001b[0m\u001b[0mresponse\u001b[0m\u001b[0;34m[\u001b[0m\u001b[0;34m'Data'\u001b[0m\u001b[0;34m]\u001b[0m\u001b[0;34m)\u001b[0m\u001b[0;34m\u001b[0m\u001b[0m\n\u001b[1;32m      8\u001b[0m \u001b[0;34m\u001b[0m\u001b[0m\n\u001b[0;32m----> 9\u001b[0;31m \u001b[0mtime\u001b[0m       \u001b[0;34m=\u001b[0m \u001b[0mint\u001b[0m\u001b[0;34m(\u001b[0m\u001b[0mresponse\u001b[0m\u001b[0;34m[\u001b[0m\u001b[0;34m'Data'\u001b[0m\u001b[0;34m]\u001b[0m\u001b[0;34m[\u001b[0m\u001b[0mdayIndex\u001b[0m\u001b[0;34m]\u001b[0m\u001b[0;34m[\u001b[0m\u001b[0;34m'time'\u001b[0m\u001b[0;34m]\u001b[0m\u001b[0;34m)\u001b[0m\u001b[0;34m\u001b[0m\u001b[0m\n\u001b[0m\u001b[1;32m     10\u001b[0m \u001b[0mpriceHigh\u001b[0m  \u001b[0;34m=\u001b[0m \u001b[0mfloat\u001b[0m\u001b[0;34m(\u001b[0m\u001b[0mresponse\u001b[0m\u001b[0;34m[\u001b[0m\u001b[0;34m'Data'\u001b[0m\u001b[0;34m]\u001b[0m\u001b[0;34m[\u001b[0m\u001b[0mdayIndex\u001b[0m\u001b[0;34m]\u001b[0m\u001b[0;34m[\u001b[0m\u001b[0;34m'high'\u001b[0m\u001b[0;34m]\u001b[0m\u001b[0;34m)\u001b[0m\u001b[0;34m\u001b[0m\u001b[0m\n\u001b[1;32m     11\u001b[0m \u001b[0mpriceLow\u001b[0m   \u001b[0;34m=\u001b[0m \u001b[0mfloat\u001b[0m\u001b[0;34m(\u001b[0m\u001b[0mresponse\u001b[0m\u001b[0;34m[\u001b[0m\u001b[0;34m'Data'\u001b[0m\u001b[0;34m]\u001b[0m\u001b[0;34m[\u001b[0m\u001b[0mdayIndex\u001b[0m\u001b[0;34m]\u001b[0m\u001b[0;34m[\u001b[0m\u001b[0;34m'low'\u001b[0m\u001b[0;34m]\u001b[0m\u001b[0;34m)\u001b[0m\u001b[0;34m\u001b[0m\u001b[0m\n",
      "\u001b[0;31mIndexError\u001b[0m: list index out of range"
     ]
    }
   ],
   "source": [
    "request = requests.get('https://min-api.cryptocompare.com/data/histoday?fsym=BTC&tsym=USD')\n",
    "if request.content != '':\n",
    "   response = request.content\n",
    "   response = json.loads(response)\n",
    "   print(response)\n",
    "\n",
    "dayIndex = len(response['Data']) - 1\n",
    "  \n",
    "time       = int(response['Data'][dayIndex]['time'])\n",
    "priceHigh  = float(response['Data'][dayIndex]['high'])\n",
    "priceLow   = float(response['Data'][dayIndex]['low'])\n",
    "priceOpen  = float(response['Data'][dayIndex]['open'])\n",
    "priceClose = float(response['Data'][dayIndex]['close'])\n",
    "priceTime  = float(response['Data'][dayIndex]['time'])\n",
    "\n",
    "timestampDateOnly = datetime.datetime.utcfromtimestamp(time).strftime(\"%d/%m/%Y\")\n",
    "print(timestampDateOnly)"
   ]
  },
  {
   "cell_type": "code",
   "execution_count": 52,
   "metadata": {},
   "outputs": [],
   "source": [
    "time_diff = start_date - end_date"
   ]
  },
  {
   "cell_type": "code",
   "execution_count": 46,
   "metadata": {},
   "outputs": [
    {
     "data": {
      "text/plain": [
       "12.0"
      ]
     },
     "execution_count": 46,
     "metadata": {},
     "output_type": "execute_result"
    }
   ],
   "source": [
    "43200/(60*60)"
   ]
  },
  {
   "cell_type": "code",
   "execution_count": 79,
   "metadata": {},
   "outputs": [
    {
     "data": {
      "text/plain": [
       "49.02511415525114"
      ]
     },
     "execution_count": 79,
     "metadata": {},
     "output_type": "execute_result"
    }
   ],
   "source": [
    "1546056000/(60*60*24*365)"
   ]
  },
  {
   "cell_type": "code",
   "execution_count": 71,
   "metadata": {},
   "outputs": [
    {
     "data": {
      "text/plain": [
       "5"
      ]
     },
     "execution_count": 71,
     "metadata": {},
     "output_type": "execute_result"
    }
   ],
   "source": [
    "num_api_calls"
   ]
  },
  {
   "cell_type": "code",
   "execution_count": 82,
   "metadata": {},
   "outputs": [
    {
     "data": {
      "text/plain": [
       "datetime.datetime(1970, 1, 1, 22, 17, 45, 20212)"
      ]
     },
     "execution_count": 82,
     "metadata": {},
     "output_type": "execute_result"
    }
   ],
   "source": [
    "d = datetime.datetime.today() - datetime.timedelta(seconds=1546056000)\n",
    "\n",
    "d"
   ]
  },
  {
   "cell_type": "code",
   "execution_count": null,
   "metadata": {
    "collapsed": true
   },
   "outputs": [],
   "source": []
  }
 ],
 "metadata": {
  "kernelspec": {
   "display_name": "Python 3",
   "language": "python",
   "name": "python3"
  },
  "language_info": {
   "codemirror_mode": {
    "name": "ipython",
    "version": 3
   },
   "file_extension": ".py",
   "mimetype": "text/x-python",
   "name": "python",
   "nbconvert_exporter": "python",
   "pygments_lexer": "ipython3",
   "version": "3.6.6"
  }
 },
 "nbformat": 4,
 "nbformat_minor": 2
}
